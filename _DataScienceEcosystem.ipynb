{
  "metadata": {
    "language_info": {
      "codemirror_mode": {
        "name": "python",
        "version": 3
      },
      "file_extension": ".py",
      "mimetype": "text/x-python",
      "name": "python",
      "nbconvert_exporter": "python",
      "pygments_lexer": "ipython3",
      "version": "3.8"
    },
    "kernelspec": {
      "name": "python",
      "display_name": "Pyolite",
      "language": "python"
    }
  },
  "nbformat_minor": 4,
  "nbformat": 4,
  "cells": [
    {
      "cell_type": "markdown",
      "source": "notebook",
      "metadata": {}
    },
    {
      "cell_type": "markdown",
      "source": "introduction",
      "metadata": {}
    },
    {
      "cell_type": "markdown",
      "source": "data science languages\n\n- Python\n- R\n- SQL\n- Julia\n- Scala\n",
      "metadata": {}
    },
    {
      "cell_type": "markdown",
      "source": "data science libraries\n\n- NumPy\n- Pandas\n- Matplotlib\n- Scikit-learn\n- TensorFlow\n- PyTorch\n",
      "metadata": {}
    },
    {
      "cell_type": "markdown",
      "source": "data science tools\n\n| Tool           | Description                               |\n|----------------|-------------------------------------------|\n| Python         | General-purpose programming language       |\n| R              | Statistical programming language           |\n| SQL            | Language for managing relational databases |\n",
      "metadata": {}
    },
    {
      "cell_type": "markdown",
      "source": "arithmetic expression examples",
      "metadata": {}
    },
    {
      "cell_type": "code",
      "source": "2+3",
      "metadata": {
        "trusted": true
      },
      "execution_count": 2,
      "outputs": [
        {
          "execution_count": 2,
          "output_type": "execute_result",
          "data": {
            "text/plain": "5"
          },
          "metadata": {}
        }
      ]
    },
    {
      "cell_type": "code",
      "source": "2*3",
      "metadata": {
        "trusted": true
      },
      "execution_count": 3,
      "outputs": [
        {
          "execution_count": 3,
          "output_type": "execute_result",
          "data": {
            "text/plain": "6"
          },
          "metadata": {}
        }
      ]
    },
    {
      "cell_type": "code",
      "source": "2-3",
      "metadata": {
        "trusted": true
      },
      "execution_count": 4,
      "outputs": [
        {
          "execution_count": 4,
          "output_type": "execute_result",
          "data": {
            "text/plain": "-1"
          },
          "metadata": {}
        }
      ]
    },
    {
      "cell_type": "code",
      "source": "6/2",
      "metadata": {
        "trusted": true
      },
      "execution_count": 5,
      "outputs": [
        {
          "execution_count": 5,
          "output_type": "execute_result",
          "data": {
            "text/plain": "3.0"
          },
          "metadata": {}
        }
      ]
    },
    {
      "cell_type": "markdown",
      "source": "Multiply two numbers",
      "metadata": {}
    },
    {
      "cell_type": "code",
      "source": "num1 = 5\nnum2 = 3\nresult_multiply = num1 * num2\nprint(\"Multiplication result:\", result_multiply)",
      "metadata": {
        "trusted": true
      },
      "execution_count": 6,
      "outputs": [
        {
          "name": "stdout",
          "text": "Multiplication result: 15\n",
          "output_type": "stream"
        }
      ]
    },
    {
      "cell_type": "markdown",
      "source": "Add two numbers",
      "metadata": {}
    },
    {
      "cell_type": "code",
      "source": "num3 = 10\nnum4 = 7\nresult_addition = num3 + num4\nprint(\"Addition result:\", result_addition)",
      "metadata": {
        "trusted": true
      },
      "execution_count": 7,
      "outputs": [
        {
          "name": "stdout",
          "text": "Addition result: 17\n",
          "output_type": "stream"
        }
      ]
    },
    {
      "cell_type": "markdown",
      "source": "Convert minutes to hours",
      "metadata": {}
    },
    {
      "cell_type": "code",
      "source": "minutes = 150\nhours = minutes / 60\nprint(\"Minutes:\", minutes)\nprint(\"Hours:\", hours)",
      "metadata": {
        "trusted": true
      },
      "execution_count": 8,
      "outputs": [
        {
          "name": "stdout",
          "text": "Minutes: 150\nHours: 2.5\n",
          "output_type": "stream"
        }
      ]
    },
    {
      "cell_type": "markdown",
      "source": "The objectives of this notebook are as follows:\n\n1. Learn the basics of Jupyter Notebook and its features.\n2. Understand the usage of markdown cells for documentation and explanations.\n3. Familiarize with data science languages such as Python and R.\n4. Explore popular data science libraries and their functionalities.\n5. Gain hands-on experience with arithmetic expressions and basic calculations.\n6. Convert minutes to hours using simple mathematical operations.\n7. Learn how to share your notebook through GitHub.\n8. Take a screenshot of the notebook to showcase your work.",
      "metadata": {}
    },
    {
      "cell_type": "markdown",
      "source": "Author\n\nThis notebook was authored by Aditya Aryan.",
      "metadata": {}
    },
    {
      "cell_type": "code",
      "source": "",
      "metadata": {},
      "execution_count": null,
      "outputs": []
    }
  ]
}